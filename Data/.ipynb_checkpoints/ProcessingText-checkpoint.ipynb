{
 "cells": [
  {
   "cell_type": "code",
   "execution_count": 19,
   "metadata": {
    "collapsed": false
   },
   "outputs": [],
   "source": [
    "# generate dict for all poet name\n",
    "name = {}\n",
    "with open (\"poet_name.txt\") as f:\n",
    "    for line in f:\n",
    "        line = line.strip()\n",
    "        name[line] = True"
   ]
  },
  {
   "cell_type": "code",
   "execution_count": 51,
   "metadata": {
    "collapsed": false
   },
   "outputs": [],
   "source": [
    "import sys \n",
    "reload(sys) \n",
    "sys.setdefaultencoding('utf8') \n",
    "with open (\"quansongci.txt\") as f:\n",
    "    with open(\"quansongci_tsv.txt\", \"w\") as f_out:\n",
    "        f_list = list(f)\n",
    "        i = 0\n",
    "        poet_name = None\n",
    "        while i < len(f_list):\n",
    "            line = f_list[i].strip()\n",
    "            # this line is a name of poet\n",
    "            # print line\n",
    "            #print name.get(line, False)\n",
    "            if line != \"全宋词\":\n",
    "                if name.get(line, False) is True:\n",
    "                    poet_name = line\n",
    "                    j = 1\n",
    "                    text_line = []\n",
    "                    while True:\n",
    "\n",
    "                        if f_list[i+j].strip()== \"\": \n",
    "                            if text_line:\n",
    "                                print >> f_out, \" \".join(text_line)\n",
    "                            break\n",
    "                        else:\n",
    "                            if len(f_list[i+j].strip()) <20 or \"（\" in f_list[i+j].strip():\n",
    "                                title_line = f_list[i + j].strip()\n",
    "                                if text_line:\n",
    "                                    print >> f_out, \" \".join(text_line)\n",
    "\n",
    "                                #print title_line.split(\"（\")\n",
    "                                if \"（\"  in title_line:\n",
    "                                    cipai = title_line.split(\"（\")[0]\n",
    "                                    title = title_line.split(\"（\")[1].strip(\"）\")\n",
    "                                else:\n",
    "                                    cipai = title_line\n",
    "                                    title = \"\"\n",
    "                                text_line = [poet_name, cipai, title]\n",
    "\n",
    "                            else:\n",
    "                                text_line.append(f_list[i+j].strip())\n",
    "                        j+=1\n",
    "\n",
    "\n",
    "            i += j\n",
    "            j = 1\n",
    "    "
   ]
  },
  {
   "cell_type": "code",
   "execution_count": null,
   "metadata": {
    "collapsed": true
   },
   "outputs": [],
   "source": []
  }
 ],
 "metadata": {
  "kernelspec": {
   "display_name": "Python 2",
   "language": "python",
   "name": "python2"
  }
 },
 "nbformat": 4,
 "nbformat_minor": 2
}

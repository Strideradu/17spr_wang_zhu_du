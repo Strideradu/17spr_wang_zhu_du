{
 "cells": [
  {
   "cell_type": "code",
   "execution_count": 19,
   "metadata": {
    "collapsed": false
   },
   "outputs": [],
   "source": [
    "# generate dict for all poet name\n",
    "name = {}\n",
    "with open (\"poet_name.txt\") as f:\n",
    "    for line in f:\n",
    "        line = line.strip()\n",
    "        name[line] = True"
   ]
  },
  {
   "cell_type": "code",
   "execution_count": 55,
   "metadata": {
    "collapsed": false
   },
   "outputs": [],
   "source": [
    "import sys \n",
    "reload(sys) \n",
    "sys.setdefaultencoding('utf8') \n",
    "with open (\"quansongci.txt\") as f:\n",
    "    with open(\"quansongci_tsv.txt\", \"w\") as f_out:\n",
    "        f_list = list(f)\n",
    "        i = 0\n",
    "        poet_name = None\n",
    "        while i < len(f_list):\n",
    "            line = f_list[i].strip()\n",
    "            # this line is a name of poet\n",
    "            # print line\n",
    "            #print name.get(line, False)\n",
    "            if line != \"全宋词\":\n",
    "                if name.get(line, False) is True:\n",
    "                    poet_name = line\n",
    "                    j = 1\n",
    "                    text_line = []\n",
    "                    while True:\n",
    "\n",
    "                        if f_list[i+j].strip()== \"\": \n",
    "                            if text_line:\n",
    "                                print >> f_out, \"\\t\".join(text_line)\n",
    "                            break\n",
    "                        else:\n",
    "                            if (len(f_list[i+j].strip()) <20 and  not (\"。\" in  f_list[i+j].strip())) or \"（\" in f_list[i+j].strip():\n",
    "                                title_line = f_list[i + j].strip()\n",
    "                                if text_line:\n",
    "                                    print >> f_out, \"\\t\".join(text_line)\n",
    "\n",
    "                                #print title_line.split(\"（\")\n",
    "                                if \"（\"  in title_line:\n",
    "                                    cipai = title_line.split(\"（\")[0]\n",
    "                                    title = title_line.split(\"（\")[1][:-3]\n",
    "                                else:\n",
    "                                    cipai = title_line\n",
    "                                    title = \"\"\n",
    "                                text_line = [poet_name, cipai, title]\n",
    "\n",
    "                            else:\n",
    "                                text_line.append(f_list[i+j].strip())\n",
    "                        j+=1\n",
    "\n",
    "\n",
    "            i += j\n",
    "            j = 1\n",
    "    "
   ]
  },
  {
   "cell_type": "code",
   "execution_count": 3,
   "metadata": {
    "collapsed": false
   },
   "outputs": [
    {
     "name": "stdout",
     "output_type": "stream",
     "text": [
      "1367\n"
     ]
    }
   ],
   "source": [
    "cipaiming = {}\n",
    "with open (\"qsc_tab.txt\") as f:\n",
    "    with open(\"quansongci_tab.txt\", \"w\") as f_out:\n",
    "        for line in f:\n",
    "            if line[0] != \"#\":\n",
    "                line = line.strip()\n",
    "                line_sp = line.split(\"\\t\")\n",
    "                if line_sp[1] == \"NA\" and line_sp[2] != \"\":\n",
    "                    line_out = [line_sp[0], line_sp[2], line_sp[1], line_sp[3]]\n",
    "                else:\n",
    "                    line_out = [line_sp[0], line_sp[1], line_sp[2], line_sp[3]]\n",
    "                    \n",
    "                cipai = line_out[1]\n",
    "                if cipaiming.get(cipai, False) is False:\n",
    "                    cipaiming[cipai] =True\n",
    "                    \n",
    "                print >> f_out, \"\\t\".join(line_out)\n",
    "                \n",
    "            else:\n",
    "                print >> f_out, line.strip()\n",
    "print len(cipaiming)"
   ]
  },
  {
   "cell_type": "code",
   "execution_count": 9,
   "metadata": {
    "collapsed": false
   },
   "outputs": [],
   "source": [
    "n = 0\n",
    "with open (\"yuan.all\") as f:\n",
    "    with open(\"yuan_tab.txt\", \"w\") as f_out:\n",
    "        for line in f:\n",
    "            if line[0] != \"#\":\n",
    "                line = line.strip()\n",
    "                line_sp = line.split(\"\\t\")\n",
    "                title_text = line_sp[2][3:-3]\n",
    "                title_part = title_text.split(\" \")\n",
    "                cipai = title_part[0]\n",
    "                \n",
    "                    \n",
    "                if cipaiming.get(cipai, False) is True:\n",
    "                    title = \" \".join(title_part[1:])\n",
    "                    output = [line_sp[1], cipai, title, line_sp[3]]\n",
    "                    print >> f_out, \"\\t\".join(output)\n"
   ]
  },
  {
   "cell_type": "code",
   "execution_count": null,
   "metadata": {
    "collapsed": true
   },
   "outputs": [],
   "source": []
  }
 ],
 "metadata": {
  "kernelspec": {
   "display_name": "Python 2",
   "language": "python",
   "name": "python2"
  },
  "language_info": {
   "codemirror_mode": {
    "name": "ipython",
    "version": 2
   },
   "file_extension": ".py",
   "mimetype": "text/x-python",
   "name": "python",
   "nbconvert_exporter": "python",
   "pygments_lexer": "ipython2",
   "version": "2.7.13"
  }
 },
 "nbformat": 4,
 "nbformat_minor": 2
}
